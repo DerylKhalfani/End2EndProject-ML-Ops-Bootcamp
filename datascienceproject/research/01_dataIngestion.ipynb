{
 "cells": [
  {
   "metadata": {
    "ExecuteTime": {
     "end_time": "2025-07-19T10:21:23.986066Z",
     "start_time": "2025-07-19T10:21:23.980625Z"
    }
   },
   "cell_type": "code",
   "source": [
    "import sys\n",
    "import os\n",
    "sys.path.append(os.path.abspath(os.path.join(os.getcwd(), '..')))"
   ],
   "id": "50eff41ac6610841",
   "outputs": [],
   "execution_count": 1
  },
  {
   "metadata": {
    "ExecuteTime": {
     "end_time": "2025-07-19T10:21:24.402268Z",
     "start_time": "2025-07-19T10:21:24.398361Z"
    }
   },
   "cell_type": "code",
   "source": [
    "from dataclasses import dataclass\n",
    "from pathlib import Path\n",
    "\n",
    "@dataclass\n",
    "class DataIngestionConfig:\n",
    "    root_dir: Path\n",
    "    source_url: str\n",
    "    local_data_file: Path\n",
    "    unzip_dir: Path"
   ],
   "id": "3a72fbf0951c4302",
   "outputs": [],
   "execution_count": 2
  },
  {
   "metadata": {
    "ExecuteTime": {
     "end_time": "2025-07-19T10:21:24.867535Z",
     "start_time": "2025-07-19T10:21:24.635263Z"
    }
   },
   "cell_type": "code",
   "source": [
    "from src.datascience.constants import *\n",
    "from src.datascience.utils.common import read_yaml, create_directories"
   ],
   "id": "46e4e8aec73aa18c",
   "outputs": [],
   "execution_count": 3
  },
  {
   "metadata": {
    "ExecuteTime": {
     "end_time": "2025-07-19T10:21:24.880904Z",
     "start_time": "2025-07-19T10:21:24.876785Z"
    }
   },
   "cell_type": "code",
   "source": "CONFIG_FILE_PATH",
   "id": "58c4dc8cdfe9f4ae",
   "outputs": [
    {
     "data": {
      "text/plain": [
       "PosixPath('../config/config.yaml')"
      ]
     },
     "execution_count": 4,
     "metadata": {},
     "output_type": "execute_result"
    }
   ],
   "execution_count": 4
  },
  {
   "metadata": {
    "ExecuteTime": {
     "end_time": "2025-07-19T10:25:32.539386Z",
     "start_time": "2025-07-19T10:25:32.528163Z"
    }
   },
   "cell_type": "code",
   "source": [
    "class ConfigurationManager:\n",
    "    def __init__(self, config_filepath=CONFIG_FILE_PATH,\n",
    "     params_filepath = PARAMS_FILE_PATH,\n",
    "     schema_filepath = SCHEMA_FILE_PATH):\n",
    "        self.config= read_yaml(config_filepath)\n",
    "        self.params = read_yaml(params_filepath)\n",
    "        self.schema = read_yaml(schema_filepath)\n",
    "\n",
    "        create_directories([self.config.artifacts_root])\n",
    "\n",
    "    def get_data_ingestion_config(self) -> DataIngestionConfig:\n",
    "        config= self.config.data_ingestion\n",
    "        create_directories([config.root_dir])\n",
    "\n",
    "        data_ingestion_config=DataIngestionConfig(\n",
    "            root_dir=config.root_dir,\n",
    "            source_url=config.source_URL,\n",
    "            local_data_file=config.local_data_file,\n",
    "            unzip_dir=config.unzip_dir,\n",
    "        )\n",
    "\n",
    "        return data_ingestion_config\n"
   ],
   "id": "12086ae049b72930",
   "outputs": [],
   "execution_count": 19
  },
  {
   "metadata": {
    "ExecuteTime": {
     "end_time": "2025-07-19T10:25:32.849886Z",
     "start_time": "2025-07-19T10:25:32.847669Z"
    }
   },
   "cell_type": "code",
   "source": [
    "import urllib.request as request\n",
    "from src.datascience import logger\n",
    "import zipfile"
   ],
   "id": "1e42ae35b9d7b66b",
   "outputs": [],
   "execution_count": 20
  },
  {
   "metadata": {
    "ExecuteTime": {
     "end_time": "2025-07-19T10:27:38.469071Z",
     "start_time": "2025-07-19T10:27:38.462719Z"
    }
   },
   "cell_type": "code",
   "source": [
    "## component-Data Ingestion\n",
    "\n",
    "class DataIngestion:\n",
    "    def __init__(self, config: DataIngestionConfig):\n",
    "        self.config=config\n",
    "\n",
    "    # zip file\n",
    "    def download_file(self):\n",
    "        if not os.path.exists(self.config.local_data_file):\n",
    "            filename, headers = request.urlretrieve(\n",
    "                url = self.config.source_url,\n",
    "                filename = self.config.local_data_file\n",
    "            )\n",
    "            logger.info(f\"{filename} downloaded with info: \\n{headers}\")\n",
    "        else:\n",
    "            logger.info(f\"File exists:\")\n",
    "\n",
    "    def extract_zip_file(self):\n",
    "        unzip_path = self.config.unzip_dir\n",
    "        os.makedirs(unzip_path, exist_ok=True)\n",
    "        with zipfile.ZipFile(self.config.local_data_file, 'r') as zip_ref:\n",
    "            zip_ref.extractall(unzip_path)\n",
    "            \n"
   ],
   "id": "1d3ca637e7f173b7",
   "outputs": [],
   "execution_count": 23
  },
  {
   "metadata": {
    "ExecuteTime": {
     "end_time": "2025-07-19T10:27:39.767890Z",
     "start_time": "2025-07-19T10:27:39.083217Z"
    }
   },
   "cell_type": "code",
   "source": [
    "try:\n",
    "    config = ConfigurationManager()\n",
    "    data_ingestion_config = config.get_data_ingestion_config()\n",
    "    data_ingestion = DataIngestion(config=data_ingestion_config)\n",
    "    data_ingestion.download_file()\n",
    "    data_ingestion.extract_zip_file()\n",
    "except Exception as e:\n",
    "    raise e\n"
   ],
   "id": "b626ae2740953894",
   "outputs": [
    {
     "name": "stdout",
     "output_type": "stream",
     "text": [
      "[2025-07-19 11:27:39,087: INFO: common: yaml file: ../config/config.yaml loaded successfully]\n",
      "[2025-07-19 11:27:39,089: INFO: common: yaml file: ../params.yaml loaded successfully]\n",
      "[2025-07-19 11:27:39,090: INFO: common: yaml file: ../schema.yaml loaded successfully]\n",
      "[2025-07-19 11:27:39,091: INFO: common: Created directory at: artifacts]\n",
      "[2025-07-19 11:27:39,091: INFO: common: Created directory at: artifacts/data_ingestion]\n",
      "[2025-07-19 11:27:39,762: INFO: 2495662148: artifacts/data_ingestion/data.zip downloaded with info: \n",
      "Connection: close\n",
      "Content-Length: 23329\n",
      "Cache-Control: max-age=300\n",
      "Content-Security-Policy: default-src 'none'; style-src 'unsafe-inline'; sandbox\n",
      "Content-Type: application/zip\n",
      "ETag: \"c69888a4ae59bc5a893392785a938ccd4937981c06ba8a9d6a21aa52b4ab5b6e\"\n",
      "Strict-Transport-Security: max-age=31536000\n",
      "X-Content-Type-Options: nosniff\n",
      "X-Frame-Options: deny\n",
      "X-XSS-Protection: 1; mode=block\n",
      "X-GitHub-Request-Id: F97C:36AB51:91D55C:A8ACD9:687B7319\n",
      "Accept-Ranges: bytes\n",
      "Date: Sat, 19 Jul 2025 10:27:39 GMT\n",
      "Via: 1.1 varnish\n",
      "X-Served-By: cache-lis1490040-LIS\n",
      "X-Cache: MISS\n",
      "X-Cache-Hits: 0\n",
      "X-Timer: S1752920860.570109,VS0,VE209\n",
      "Vary: Authorization,Accept-Encoding\n",
      "Access-Control-Allow-Origin: *\n",
      "Cross-Origin-Resource-Policy: cross-origin\n",
      "X-Fastly-Request-ID: f644397a81d6c527aaa6ca9f49937bb57ba94422\n",
      "Expires: Sat, 19 Jul 2025 10:32:39 GMT\n",
      "Source-Age: 0\n",
      "\n",
      "]\n"
     ]
    }
   ],
   "execution_count": 24
  },
  {
   "metadata": {},
   "cell_type": "code",
   "outputs": [],
   "execution_count": null,
   "source": "",
   "id": "bb20399f42e23a78"
  }
 ],
 "metadata": {
  "kernelspec": {
   "name": "python3",
   "language": "python",
   "display_name": "Python 3 (ipykernel)"
  }
 },
 "nbformat": 5,
 "nbformat_minor": 9
}

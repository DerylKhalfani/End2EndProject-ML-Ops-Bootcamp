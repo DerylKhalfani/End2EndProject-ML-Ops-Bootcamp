{
 "cells": [
  {
   "metadata": {
    "ExecuteTime": {
     "end_time": "2025-07-28T14:39:28.529121Z",
     "start_time": "2025-07-28T14:39:28.503273Z"
    }
   },
   "cell_type": "code",
   "source": [
    "import os\n",
    "%pwd"
   ],
   "id": "e7409d137d992620",
   "outputs": [
    {
     "data": {
      "text/plain": [
       "'/Users/deryliankhalfani/Documents/Self_Learn/Udemy/MLOps Bootcamp/MLOPSBOOTCAMP_PROJECT/datascienceproject/research'"
      ]
     },
     "execution_count": 1,
     "metadata": {},
     "output_type": "execute_result"
    }
   ],
   "execution_count": 1
  },
  {
   "metadata": {
    "ExecuteTime": {
     "end_time": "2025-07-28T14:39:41.116058Z",
     "start_time": "2025-07-28T14:39:41.110944Z"
    }
   },
   "cell_type": "code",
   "source": "os.chdir(\"../\")",
   "id": "7393a2fd970fa1",
   "outputs": [],
   "execution_count": 2
  },
  {
   "metadata": {
    "ExecuteTime": {
     "end_time": "2025-07-28T14:41:13.953300Z",
     "start_time": "2025-07-28T14:41:12.786990Z"
    }
   },
   "cell_type": "code",
   "source": [
    "import pandas as pd\n",
    "\n",
    "from dataclasses import dataclass\n",
    "from pathlib import Path\n",
    "\n",
    "@dataclass\n",
    "class DataTransformationConfig:\n",
    "    root_dir: Path\n",
    "    data_path: Path"
   ],
   "id": "b647f84e3f59c346",
   "outputs": [],
   "execution_count": 3
  },
  {
   "metadata": {
    "ExecuteTime": {
     "end_time": "2025-07-28T14:43:57.476723Z",
     "start_time": "2025-07-28T14:43:57.249371Z"
    }
   },
   "cell_type": "code",
   "source": [
    "from src.datascience.constants import *\n",
    "from src.datascience.utils.common import read_yaml, create_directories\n",
    "\n",
    "class ConfigurationManager:\n",
    "    def __init__(self, config_filepath=CONFIG_FILE_PATH,\n",
    "     params_filepath = PARAMS_FILE_PATH,\n",
    "     schema_filepath = SCHEMA_FILE_PATH):\n",
    "        self.config= read_yaml(config_filepath)\n",
    "        self.params = read_yaml(params_filepath)\n",
    "        self.schema = read_yaml(schema_filepath)\n",
    "\n",
    "        create_directories([self.config.artifacts_root])\n",
    "\n",
    "    def get_data_transformation_config(self) -> DataTransformationConfig:\n",
    "        config= self.config.data_transformation\n",
    "        create_directories([config.root_dir])\n",
    "\n",
    "        data_transformation_config=DataTransformationConfig(\n",
    "            root_dir=config.root_dir,\n",
    "            data_path=config.data_path\n",
    "        )\n",
    "\n",
    "        return data_transformation_config"
   ],
   "id": "aa6d9ec024603ba2",
   "outputs": [],
   "execution_count": 4
  },
  {
   "metadata": {
    "ExecuteTime": {
     "end_time": "2025-07-28T14:44:51.822134Z",
     "start_time": "2025-07-28T14:44:48.110624Z"
    }
   },
   "cell_type": "code",
   "source": [
    "from src.datascience import logger\n",
    "from sklearn.model_selection import train_test_split\n",
    "import pandas as pd"
   ],
   "id": "6caacfb4576ae6ae",
   "outputs": [],
   "execution_count": 6
  },
  {
   "metadata": {
    "ExecuteTime": {
     "end_time": "2025-07-28T14:47:24.998575Z",
     "start_time": "2025-07-28T14:47:24.980511Z"
    }
   },
   "cell_type": "code",
   "source": [
    "class DataTransformation:\n",
    "    def __init__(self, config: DataTransformationConfig):\n",
    "        self.config = config\n",
    "\n",
    "    def train_test_splitting(self):\n",
    "        data = pd.read_csv(self.config.data_path)\n",
    "\n",
    "        train, test = train_test_split(data)\n",
    "\n",
    "        train.to_csv(os.path.join(self.config.root_dir, \"train.csv\"),index = False)\n",
    "        test.to_csv(os.path.join(self.config.root_dir, \"test.csv\"),index = False)\n",
    "\n",
    "        logger.info(\"Splited data into training and test sets\")\n",
    "        logger.info(train.shape)\n",
    "        logger.info(test.shape)\n",
    "\n",
    "        print(train.shape)\n",
    "        print(test.shape)\n",
    "\n"
   ],
   "id": "f5138715be7f02e7",
   "outputs": [],
   "execution_count": 7
  },
  {
   "metadata": {
    "ExecuteTime": {
     "end_time": "2025-07-28T14:48:21.977776Z",
     "start_time": "2025-07-28T14:48:21.897644Z"
    }
   },
   "cell_type": "code",
   "source": [
    "try:\n",
    "    config = ConfigurationManager()\n",
    "    data_transformation_config = config.get_data_transformation_config()\n",
    "    data_transformation = DataTransformation(config=data_transformation_config)\n",
    "    data_transformation.train_test_splitting()\n",
    "except Exception as e:\n",
    "    raise e"
   ],
   "id": "c26e9a9dcd6d1d4f",
   "outputs": [
    {
     "name": "stdout",
     "output_type": "stream",
     "text": [
      "[2025-07-28 21:48:21,908: INFO: common: yaml file: /Users/deryliankhalfani/Documents/Self_Learn/Udemy/MLOps Bootcamp/MLOPSBOOTCAMP_PROJECT/datascienceproject/config/config.yaml loaded successfully]\n",
      "[2025-07-28 21:48:21,916: INFO: common: yaml file: /Users/deryliankhalfani/Documents/Self_Learn/Udemy/MLOps Bootcamp/MLOPSBOOTCAMP_PROJECT/datascienceproject/params.yaml loaded successfully]\n",
      "[2025-07-28 21:48:21,921: INFO: common: yaml file: /Users/deryliankhalfani/Documents/Self_Learn/Udemy/MLOps Bootcamp/MLOPSBOOTCAMP_PROJECT/datascienceproject/schema.yaml loaded successfully]\n",
      "[2025-07-28 21:48:21,923: INFO: common: Created directory at: artifacts]\n",
      "[2025-07-28 21:48:21,924: INFO: common: Created directory at: artifacts/data_transformation]\n",
      "[2025-07-28 21:48:21,974: INFO: 2737858661: Splited data into training and test sets]\n",
      "[2025-07-28 21:48:21,975: INFO: 2737858661: (1199, 12)]\n",
      "[2025-07-28 21:48:21,975: INFO: 2737858661: (400, 12)]\n",
      "(1199, 12)\n",
      "(400, 12)\n"
     ]
    }
   ],
   "execution_count": 8
  },
  {
   "metadata": {},
   "cell_type": "code",
   "outputs": [],
   "execution_count": null,
   "source": "",
   "id": "a15da63b3c784032"
  }
 ],
 "metadata": {
  "kernelspec": {
   "name": "python3",
   "language": "python",
   "display_name": "Python 3 (ipykernel)"
  }
 },
 "nbformat": 5,
 "nbformat_minor": 9
}

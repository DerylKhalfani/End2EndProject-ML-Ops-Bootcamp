{
 "cells": [
  {
   "metadata": {
    "ExecuteTime": {
     "end_time": "2025-07-28T14:39:28.529121Z",
     "start_time": "2025-07-28T14:39:28.503273Z"
    }
   },
   "cell_type": "code",
   "source": [
    "import os\n",
    "%pwd"
   ],
   "id": "e7409d137d992620",
   "outputs": [
    {
     "data": {
      "text/plain": [
       "'/Users/deryliankhalfani/Documents/Self_Learn/Udemy/MLOps Bootcamp/MLOPSBOOTCAMP_PROJECT/datascienceproject/research'"
      ]
     },
     "execution_count": 1,
     "metadata": {},
     "output_type": "execute_result"
    }
   ],
   "execution_count": 1
  },
  {
   "metadata": {
    "ExecuteTime": {
     "end_time": "2025-07-28T14:39:41.116058Z",
     "start_time": "2025-07-28T14:39:41.110944Z"
    }
   },
   "cell_type": "code",
   "source": "os.chdir(\"../\")",
   "id": "7393a2fd970fa1",
   "outputs": [],
   "execution_count": 2
  },
  {
   "metadata": {
    "ExecuteTime": {
     "end_time": "2025-07-28T16:22:01.883982Z",
     "start_time": "2025-07-28T16:22:01.841126Z"
    }
   },
   "cell_type": "code",
   "source": [
    "import pandas as pd\n",
    "\n",
    "from dataclasses import dataclass\n",
    "from pathlib import Path\n",
    "\n",
    "@dataclass\n",
    "class DataTransformationConfig:\n",
    "    root_dir: Path\n",
    "    data_path: Path"
   ],
   "id": "b647f84e3f59c346",
   "outputs": [],
   "execution_count": 9
  },
  {
   "metadata": {
    "ExecuteTime": {
     "end_time": "2025-07-28T16:22:02.013726Z",
     "start_time": "2025-07-28T16:22:02.006481Z"
    }
   },
   "cell_type": "code",
   "source": [
    "from src.datascience.constants import *\n",
    "from src.datascience.utils.common import read_yaml, create_directories\n",
    "\n",
    "class ConfigurationManager:\n",
    "    def __init__(self, config_filepath=CONFIG_FILE_PATH,\n",
    "     params_filepath = PARAMS_FILE_PATH,\n",
    "     schema_filepath = SCHEMA_FILE_PATH):\n",
    "        self.config= read_yaml(config_filepath)\n",
    "        self.params = read_yaml(params_filepath)\n",
    "        self.schema = read_yaml(schema_filepath)\n",
    "\n",
    "        create_directories([self.config.artifacts_root])\n",
    "\n",
    "    def get_data_transformation_config(self) -> DataTransformationConfig:\n",
    "        config= self.config.data_transformation\n",
    "        create_directories([config.root_dir])\n",
    "\n",
    "        data_transformation_config=DataTransformationConfig(\n",
    "            root_dir=config.root_dir,\n",
    "            data_path=config.data_path\n",
    "        )\n",
    "\n",
    "        return data_transformation_config"
   ],
   "id": "aa6d9ec024603ba2",
   "outputs": [],
   "execution_count": 10
  },
  {
   "metadata": {
    "ExecuteTime": {
     "end_time": "2025-07-28T16:22:02.217959Z",
     "start_time": "2025-07-28T16:22:02.214247Z"
    }
   },
   "cell_type": "code",
   "source": [
    "from src.datascience import logger\n",
    "from sklearn.model_selection import train_test_split\n",
    "import pandas as pd"
   ],
   "id": "6caacfb4576ae6ae",
   "outputs": [],
   "execution_count": 11
  },
  {
   "metadata": {
    "ExecuteTime": {
     "end_time": "2025-07-28T16:22:02.458496Z",
     "start_time": "2025-07-28T16:22:02.451960Z"
    }
   },
   "cell_type": "code",
   "source": [
    "class DataTransformation:\n",
    "    def __init__(self, config: DataTransformationConfig):\n",
    "        self.config = config\n",
    "\n",
    "    def train_test_splitting(self):\n",
    "        data = pd.read_csv(self.config.data_path)\n",
    "\n",
    "        train, test = train_test_split(data)\n",
    "\n",
    "        train.to_csv(os.path.join(self.config.root_dir, \"train.csv\"),index = False)\n",
    "        test.to_csv(os.path.join(self.config.root_dir, \"test.csv\"),index = False)\n",
    "\n",
    "        logger.info(\"Splited data into training and test sets\")\n",
    "        logger.info(train.shape)\n",
    "        logger.info(test.shape)\n",
    "\n",
    "        print(train.shape)\n",
    "        print(test.shape)\n",
    "\n"
   ],
   "id": "f5138715be7f02e7",
   "outputs": [],
   "execution_count": 12
  },
  {
   "metadata": {
    "ExecuteTime": {
     "end_time": "2025-07-28T16:23:40.090237Z",
     "start_time": "2025-07-28T16:23:40.014096Z"
    }
   },
   "cell_type": "code",
   "source": [
    "try:\n",
    "    config = ConfigurationManager()\n",
    "    data_transformation_config = config.get_data_transformation_config()\n",
    "    data_transformation = DataTransformation(config=data_transformation_config)\n",
    "    data_transformation.train_test_splitting()\n",
    "except Exception as e:\n",
    "    raise e"
   ],
   "id": "c26e9a9dcd6d1d4f",
   "outputs": [
    {
     "name": "stdout",
     "output_type": "stream",
     "text": [
      "[2025-07-28 23:23:40,040: INFO: common: yaml file: /Users/deryliankhalfani/Documents/Self_Learn/Udemy/MLOps Bootcamp/MLOPSBOOTCAMP_PROJECT/datascienceproject/config/config.yaml loaded successfully]\n",
      "[2025-07-28 23:23:40,044: INFO: common: yaml file: /Users/deryliankhalfani/Documents/Self_Learn/Udemy/MLOps Bootcamp/MLOPSBOOTCAMP_PROJECT/datascienceproject/params.yaml loaded successfully]\n",
      "[2025-07-28 23:23:40,047: INFO: common: yaml file: /Users/deryliankhalfani/Documents/Self_Learn/Udemy/MLOps Bootcamp/MLOPSBOOTCAMP_PROJECT/datascienceproject/schema.yaml loaded successfully]\n",
      "[2025-07-28 23:23:40,050: INFO: common: Created directory at: artifacts]\n",
      "[2025-07-28 23:23:40,051: INFO: common: Created directory at: artifacts/data_transformation]\n",
      "[2025-07-28 23:23:40,087: INFO: 2737858661: Splited data into training and test sets]\n",
      "[2025-07-28 23:23:40,088: INFO: 2737858661: (1199, 12)]\n",
      "[2025-07-28 23:23:40,088: INFO: 2737858661: (400, 12)]\n",
      "(1199, 12)\n",
      "(400, 12)\n"
     ]
    }
   ],
   "execution_count": 14
  },
  {
   "metadata": {
    "ExecuteTime": {
     "end_time": "2025-07-28T16:23:43.923259Z",
     "start_time": "2025-07-28T16:23:43.912964Z"
    }
   },
   "cell_type": "code",
   "source": [
    "with open(Path(\"artifacts/data_validation/status.txt\"),'r') as f:\n",
    "                status=f.read().split(\" \")[-1]\n",
    "                print(status)"
   ],
   "id": "a58b4291f36bf36f",
   "outputs": [
    {
     "name": "stdout",
     "output_type": "stream",
     "text": [
      "True\n"
     ]
    }
   ],
   "execution_count": 15
  }
 ],
 "metadata": {
  "kernelspec": {
   "name": "python3",
   "language": "python",
   "display_name": "Python 3 (ipykernel)"
  }
 },
 "nbformat": 5,
 "nbformat_minor": 9
}

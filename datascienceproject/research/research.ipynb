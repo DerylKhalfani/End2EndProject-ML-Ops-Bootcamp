{
 "cells": [
  {
   "metadata": {
    "ExecuteTime": {
     "end_time": "2025-07-15T23:26:33.125486Z",
     "start_time": "2025-07-15T23:26:33.112951Z"
    }
   },
   "cell_type": "code",
   "source": "",
   "id": "9908f67427885bb4",
   "outputs": [],
   "execution_count": 1
  },
  {
   "metadata": {
    "ExecuteTime": {
     "end_time": "2025-07-15T23:27:15.103022Z",
     "start_time": "2025-07-15T23:27:14.984510Z"
    }
   },
   "cell_type": "code",
   "source": "from box import ConfigBox",
   "id": "f10b385c6888d9be",
   "outputs": [],
   "execution_count": 2
  },
  {
   "metadata": {
    "ExecuteTime": {
     "end_time": "2025-07-15T23:27:43.626601Z",
     "start_time": "2025-07-15T23:27:43.615934Z"
    }
   },
   "cell_type": "code",
   "source": [
    "example=ConfigBox({\"key1\":\"Value1\",\"key2\":\"Value 2\"})\n",
    "\n",
    "example.key1"
   ],
   "id": "e936db3a2b9673ee",
   "outputs": [
    {
     "data": {
      "text/plain": [
       "'Value1'"
      ]
     },
     "execution_count": 4,
     "metadata": {},
     "output_type": "execute_result"
    }
   ],
   "execution_count": 4
  },
  {
   "metadata": {
    "ExecuteTime": {
     "end_time": "2025-07-15T23:31:18.857292Z",
     "start_time": "2025-07-15T23:31:18.576405Z"
    }
   },
   "cell_type": "code",
   "source": [
    "from ensure import ensure_annotations\n",
    "\n",
    "@ensure_annotations\n",
    "def get_product(x:int,y:int) -> int:\n",
    "    return x*y\n",
    "\n",
    "get_product(1,\"2\")"
   ],
   "id": "8c4023eec7573e1d",
   "outputs": [
    {
     "ename": "EnsureError",
     "evalue": "Argument y of type <class 'str'> to <function get_product at 0x1087aa0e0> does not match annotation type <class 'int'>",
     "output_type": "error",
     "traceback": [
      "\u001B[0;31m---------------------------------------------------------------------------\u001B[0m",
      "\u001B[0;31mEnsureError\u001B[0m                               Traceback (most recent call last)",
      "Cell \u001B[0;32mIn[6], line 7\u001B[0m\n\u001B[1;32m      3\u001B[0m \u001B[38;5;129m@ensure_annotations\u001B[39m\n\u001B[1;32m      4\u001B[0m \u001B[38;5;28;01mdef\u001B[39;00m\u001B[38;5;250m \u001B[39m\u001B[38;5;21mget_product\u001B[39m(x:\u001B[38;5;28mint\u001B[39m,y:\u001B[38;5;28mint\u001B[39m) \u001B[38;5;241m-\u001B[39m\u001B[38;5;241m>\u001B[39m \u001B[38;5;28mint\u001B[39m:\n\u001B[1;32m      5\u001B[0m     \u001B[38;5;28;01mreturn\u001B[39;00m x\u001B[38;5;241m*\u001B[39my\n\u001B[0;32m----> 7\u001B[0m \u001B[43mget_product\u001B[49m\u001B[43m(\u001B[49m\u001B[38;5;241;43m1\u001B[39;49m\u001B[43m,\u001B[49m\u001B[38;5;124;43m\"\u001B[39;49m\u001B[38;5;124;43m2\u001B[39;49m\u001B[38;5;124;43m\"\u001B[39;49m\u001B[43m)\u001B[49m\n",
      "File \u001B[0;32m/opt/anaconda3/envs/mlops/lib/python3.10/site-packages/ensure/main.py:870\u001B[0m, in \u001B[0;36mWrappedFunctionReturn.__call__\u001B[0;34m(self, *args, **kwargs)\u001B[0m\n\u001B[1;32m    868\u001B[0m     \u001B[38;5;28;01mif\u001B[39;00m \u001B[38;5;129;01mnot\u001B[39;00m \u001B[38;5;28misinstance\u001B[39m(value, templ):\n\u001B[1;32m    869\u001B[0m         msg \u001B[38;5;241m=\u001B[39m \u001B[38;5;124m\"\u001B[39m\u001B[38;5;124mArgument \u001B[39m\u001B[38;5;132;01m{arg}\u001B[39;00m\u001B[38;5;124m of type \u001B[39m\u001B[38;5;132;01m{valt}\u001B[39;00m\u001B[38;5;124m to \u001B[39m\u001B[38;5;132;01m{f}\u001B[39;00m\u001B[38;5;124m \u001B[39m\u001B[38;5;124m\"\u001B[39m \u001B[38;5;124m\"\u001B[39m\u001B[38;5;124mdoes not match annotation type \u001B[39m\u001B[38;5;132;01m{t}\u001B[39;00m\u001B[38;5;124m\"\u001B[39m\n\u001B[0;32m--> 870\u001B[0m         \u001B[38;5;28;01mraise\u001B[39;00m EnsureError(msg\u001B[38;5;241m.\u001B[39mformat(arg\u001B[38;5;241m=\u001B[39marg, f\u001B[38;5;241m=\u001B[39m\u001B[38;5;28mself\u001B[39m\u001B[38;5;241m.\u001B[39mf, t\u001B[38;5;241m=\u001B[39mtempl, valt\u001B[38;5;241m=\u001B[39m\u001B[38;5;28mtype\u001B[39m(value)))\n\u001B[1;32m    872\u001B[0m return_val \u001B[38;5;241m=\u001B[39m \u001B[38;5;28mself\u001B[39m\u001B[38;5;241m.\u001B[39mf(\u001B[38;5;241m*\u001B[39margs, \u001B[38;5;241m*\u001B[39m\u001B[38;5;241m*\u001B[39mkwargs)\n\u001B[1;32m    873\u001B[0m \u001B[38;5;28;01mif\u001B[39;00m \u001B[38;5;129;01mnot\u001B[39;00m \u001B[38;5;28misinstance\u001B[39m(return_val, \u001B[38;5;28mself\u001B[39m\u001B[38;5;241m.\u001B[39mreturn_templ):\n",
      "\u001B[0;31mEnsureError\u001B[0m: Argument y of type <class 'str'> to <function get_product at 0x1087aa0e0> does not match annotation type <class 'int'>"
     ]
    }
   ],
   "execution_count": 6
  },
  {
   "metadata": {},
   "cell_type": "code",
   "outputs": [],
   "execution_count": null,
   "source": "",
   "id": "fda8a63a052227ca"
  }
 ],
 "metadata": {
  "kernelspec": {
   "name": "python3",
   "language": "python",
   "display_name": "Python 3 (ipykernel)"
  }
 },
 "nbformat": 5,
 "nbformat_minor": 9
}

{
 "cells": [
  {
   "metadata": {
    "ExecuteTime": {
     "end_time": "2025-07-28T16:07:14.393981Z",
     "start_time": "2025-07-28T16:07:14.382067Z"
    }
   },
   "cell_type": "code",
   "source": [
    "import os\n",
    "%pwd"
   ],
   "id": "f396b786f4c6a807",
   "outputs": [
    {
     "data": {
      "text/plain": [
       "'/Users/deryliankhalfani/Documents/Self_Learn/Udemy/MLOps Bootcamp/MLOPSBOOTCAMP_PROJECT/datascienceproject/research'"
      ]
     },
     "execution_count": 1,
     "metadata": {},
     "output_type": "execute_result"
    }
   ],
   "execution_count": 1
  },
  {
   "metadata": {
    "ExecuteTime": {
     "end_time": "2025-07-28T16:07:22.045085Z",
     "start_time": "2025-07-28T16:07:22.037719Z"
    }
   },
   "cell_type": "code",
   "source": "os.chdir('../')",
   "id": "9784f7267970a875",
   "outputs": [],
   "execution_count": 2
  },
  {
   "metadata": {
    "ExecuteTime": {
     "end_time": "2025-07-28T16:19:39.034414Z",
     "start_time": "2025-07-28T16:19:39.010619Z"
    }
   },
   "cell_type": "code",
   "source": [
    "from dataclasses import dataclass\n",
    "from pathlib import Path\n",
    "\n",
    "@dataclass\n",
    "class ModelTrainerConfig:\n",
    "    root_dir: Path\n",
    "    train_data_path: Path\n",
    "    test_data_path: Path\n",
    "    model_name: str\n",
    "    alpha: float\n",
    "    l1_ratio: float\n",
    "    target_column: str"
   ],
   "id": "84028de7203ff63a",
   "outputs": [],
   "execution_count": 7
  },
  {
   "metadata": {
    "ExecuteTime": {
     "end_time": "2025-07-28T16:24:45.148711Z",
     "start_time": "2025-07-28T16:24:45.100879Z"
    }
   },
   "cell_type": "code",
   "source": [
    "from src.datascience.constants import *\n",
    "from src.datascience.utils.common import read_yaml, create_directories\n",
    "\n",
    "class ConfigurationManager:\n",
    "    def __init__(self, config_filepath=CONFIG_FILE_PATH,\n",
    "     params_filepath = PARAMS_FILE_PATH,\n",
    "     schema_filepath = SCHEMA_FILE_PATH):\n",
    "        self.config= read_yaml(config_filepath)\n",
    "        self.params = read_yaml(params_filepath)\n",
    "        self.schema = read_yaml(schema_filepath)\n",
    "\n",
    "        create_directories([self.config.artifacts_root])\n",
    "\n",
    "    def get_model_trainer_config(self) -> ModelTrainerConfig:\n",
    "        config=self.config.model_trainer\n",
    "        params = self.params.ElasticNet\n",
    "        schema= self.schema.TARGET_COLUMN\n",
    "\n",
    "        create_directories([config.root_dir])\n",
    "\n",
    "        model_trainer_config = ModelTrainerConfig(\n",
    "            root_dir=config.root_dir,\n",
    "            train_data_path=config.train_data_path,\n",
    "            test_data_path=config.test_data_path,\n",
    "            model_name = config.model_name,\n",
    "            alpha=params.alpha,\n",
    "            l1_ratio=params.l1_ratio,\n",
    "            target_column=schema.name\n",
    "        )\n",
    "\n",
    "        return model_trainer_config\n"
   ],
   "id": "5560ca161f16e1",
   "outputs": [],
   "execution_count": 13
  },
  {
   "metadata": {
    "ExecuteTime": {
     "end_time": "2025-07-28T16:24:45.822029Z",
     "start_time": "2025-07-28T16:24:45.817401Z"
    }
   },
   "cell_type": "code",
   "source": [
    "import pandas as pd\n",
    "import os\n",
    "from src.datascience import logger\n",
    "from sklearn.linear_model import ElasticNet\n",
    "import joblib"
   ],
   "id": "3459334d4e4e4eea",
   "outputs": [],
   "execution_count": 14
  },
  {
   "metadata": {
    "ExecuteTime": {
     "end_time": "2025-07-28T16:24:46.651229Z",
     "start_time": "2025-07-28T16:24:46.645565Z"
    }
   },
   "cell_type": "code",
   "source": [
    "class ModelTrainer:\n",
    "    def __init__(self, config: ModelTrainerConfig):\n",
    "        self.config = config\n",
    "\n",
    "    def train(self):\n",
    "        train_data = pd.read_csv(self.config.train_data_path)\n",
    "        test_data = pd.read_csv(self.config.test_data_path)\n",
    "\n",
    "\n",
    "        train_x = train_data.drop([self.config.target_column], axis=1)\n",
    "        test_x = test_data.drop([self.config.target_column], axis=1)\n",
    "        train_y = train_data[[self.config.target_column]]\n",
    "        test_y = test_data[[self.config.target_column]]\n",
    "\n",
    "\n",
    "        lr = ElasticNet(alpha=self.config.alpha, l1_ratio=self.config.l1_ratio, random_state=42)\n",
    "        lr.fit(train_x, train_y)\n",
    "\n",
    "        joblib.dump(lr, os.path.join(self.config.root_dir, self.config.model_name))"
   ],
   "id": "a4e192d4b182e779",
   "outputs": [],
   "execution_count": 15
  },
  {
   "metadata": {
    "ExecuteTime": {
     "end_time": "2025-07-28T16:24:47.642437Z",
     "start_time": "2025-07-28T16:24:47.565260Z"
    }
   },
   "cell_type": "code",
   "source": [
    "try:\n",
    "    config = ConfigurationManager()\n",
    "    model_trainer_config = config.get_model_trainer_config()\n",
    "    model_trainer = ModelTrainer(config=model_trainer_config)\n",
    "    model_trainer.train()\n",
    "except Exception as e:\n",
    "    raise e"
   ],
   "id": "353555182b166cc1",
   "outputs": [
    {
     "name": "stdout",
     "output_type": "stream",
     "text": [
      "[2025-07-28 23:24:47,575: INFO: common: yaml file: /Users/deryliankhalfani/Documents/Self_Learn/Udemy/MLOps Bootcamp/MLOPSBOOTCAMP_PROJECT/datascienceproject/config/config.yaml loaded successfully]\n",
      "[2025-07-28 23:24:47,579: INFO: common: yaml file: /Users/deryliankhalfani/Documents/Self_Learn/Udemy/MLOps Bootcamp/MLOPSBOOTCAMP_PROJECT/datascienceproject/params.yaml loaded successfully]\n",
      "[2025-07-28 23:24:47,581: INFO: common: yaml file: /Users/deryliankhalfani/Documents/Self_Learn/Udemy/MLOps Bootcamp/MLOPSBOOTCAMP_PROJECT/datascienceproject/schema.yaml loaded successfully]\n",
      "[2025-07-28 23:24:47,582: INFO: common: Created directory at: artifacts]\n",
      "[2025-07-28 23:24:47,583: INFO: common: Created directory at: artifacts/model_trainer]\n"
     ]
    }
   ],
   "execution_count": 16
  },
  {
   "metadata": {},
   "cell_type": "code",
   "outputs": [],
   "execution_count": null,
   "source": "",
   "id": "709539b3e09550e2"
  }
 ],
 "metadata": {
  "kernelspec": {
   "name": "python3",
   "language": "python",
   "display_name": "Python 3 (ipykernel)"
  }
 },
 "nbformat": 5,
 "nbformat_minor": 9
}
